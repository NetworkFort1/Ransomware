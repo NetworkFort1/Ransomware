{
 "cells": [
  {
   "cell_type": "code",
   "execution_count": 2,
   "id": "95da2141",
   "metadata": {},
   "outputs": [],
   "source": [
    "import os\n",
    "import pandas as pd\n",
    "from scapy.all import *\n",
    "from ipaddress import ip_address\n",
    "from sklearn.model_selection import train_test_split\n",
    "from sklearn.ensemble import RandomForestClassifier\n",
    "from sklearn.metrics import accuracy_score\n",
    "from sklearn.impute import SimpleImputer\n",
    "from sklearn.preprocessing import LabelEncoder\n",
    "import joblib"
   ]
  },
  {
   "cell_type": "code",
   "execution_count": 3,
   "id": "cb731a61",
   "metadata": {},
   "outputs": [],
   "source": [
    "# Function to extract features from a single PCAP file\n",
    "def extract_features_from_pcap(pcap_file):\n",
    "    packets = rdpcap(pcap_file)\n",
    "    \n",
    "    packet_features = []\n",
    "    for pkt in packets:\n",
    "        if IP in pkt:\n",
    "            packet_length = len(pkt)\n",
    "            protocol_type = pkt[IP].proto\n",
    "            src_ip = int(ip_address(pkt[IP].src))  # Convert source IP to integer\n",
    "            dst_ip = int(ip_address(pkt[IP].dst))  # Convert destination IP to integer\n",
    "            if TCP in pkt:\n",
    "                src_port = pkt[TCP].sport\n",
    "                dst_port = pkt[TCP].dport\n",
    "                flags = pkt[TCP].flags\n",
    "            elif UDP in pkt:\n",
    "                src_port = pkt[UDP].sport\n",
    "                dst_port = pkt[UDP].dport\n",
    "                flags = None\n",
    "            else:\n",
    "                src_port = None\n",
    "                dst_port = None\n",
    "                flags = None\n",
    "            time_stamp = pkt.time\n",
    "            payload_size = len(pkt.payload)\n",
    "            \n",
    "            packet_features.append({\n",
    "                'packet_length': packet_length,\n",
    "                'protocol_type': protocol_type,\n",
    "                'src_ip': src_ip,\n",
    "                'dst_ip': dst_ip,\n",
    "                'src_port': src_port,\n",
    "                'dst_port': dst_port,\n",
    "                'flags': flags,\n",
    "                'time_stamp': time_stamp,\n",
    "                'payload_size': payload_size\n",
    "            })\n",
    "    \n",
    "    return packet_features"
   ]
  },
  {
   "cell_type": "code",
   "execution_count": 4,
   "id": "ac51cf1b",
   "metadata": {},
   "outputs": [],
   "source": [
    "# Function to convert timestamp to seconds\n",
    "def convert_timestamp_to_seconds(timestamp):\n",
    "    return int(timestamp)"
   ]
  },
  {
   "cell_type": "code",
   "execution_count": 5,
   "id": "4fcf4414",
   "metadata": {},
   "outputs": [],
   "source": [
    "# Function to extract features from all PCAP files in a folder\n",
    "def extract_features_from_folder(folder_path):\n",
    "    all_features = []\n",
    "    pcap_files = [f for f in os.listdir(folder_path) if f.endswith('.pcap') or f.endswith('.pcapng')]\n",
    "    for pcap_file in pcap_files:\n",
    "        pcap_file_path = os.path.join(folder_path, pcap_file)\n",
    "        features = extract_features_from_pcap(pcap_file_path)\n",
    "        all_features.extend(features)\n",
    "    return all_features"
   ]
  },
  {
   "cell_type": "code",
   "execution_count": 6,
   "id": "af06f916",
   "metadata": {},
   "outputs": [],
   "source": [
    "# Path to the 'attack' and 'normal' folders\n",
    "attack_folder = 'attack'\n",
    "normal_folder = 'normal'"
   ]
  },
  {
   "cell_type": "code",
   "execution_count": 7,
   "id": "41b604aa",
   "metadata": {},
   "outputs": [],
   "source": [
    "# Extract features from 'attack' folder\n",
    "attack_features = extract_features_from_folder(attack_folder)"
   ]
  },
  {
   "cell_type": "code",
   "execution_count": 8,
   "id": "1da60203",
   "metadata": {},
   "outputs": [],
   "source": [
    "# Extract features from 'normal' folder\n",
    "normal_features = extract_features_from_folder(normal_folder)"
   ]
  },
  {
   "cell_type": "code",
   "execution_count": 9,
   "id": "78983819",
   "metadata": {},
   "outputs": [],
   "source": [
    "# Convert features to DataFrame\n",
    "attack_df = pd.DataFrame(attack_features)\n",
    "normal_df = pd.DataFrame(normal_features)"
   ]
  },
  {
   "cell_type": "code",
   "execution_count": 10,
   "id": "35880c2d",
   "metadata": {},
   "outputs": [],
   "source": [
    "# Add labels to the DataFrames\n",
    "attack_df['label'] = 'attack'\n",
    "normal_df['label'] = 'normal'"
   ]
  },
  {
   "cell_type": "code",
   "execution_count": 11,
   "id": "7dae7ce6",
   "metadata": {},
   "outputs": [
    {
     "data": {
      "text/html": [
       "<div>\n",
       "<style scoped>\n",
       "    .dataframe tbody tr th:only-of-type {\n",
       "        vertical-align: middle;\n",
       "    }\n",
       "\n",
       "    .dataframe tbody tr th {\n",
       "        vertical-align: top;\n",
       "    }\n",
       "\n",
       "    .dataframe thead th {\n",
       "        text-align: right;\n",
       "    }\n",
       "</style>\n",
       "<table border=\"1\" class=\"dataframe\">\n",
       "  <thead>\n",
       "    <tr style=\"text-align: right;\">\n",
       "      <th></th>\n",
       "      <th>packet_length</th>\n",
       "      <th>protocol_type</th>\n",
       "      <th>src_ip</th>\n",
       "      <th>dst_ip</th>\n",
       "      <th>src_port</th>\n",
       "      <th>dst_port</th>\n",
       "      <th>flags</th>\n",
       "      <th>time_stamp</th>\n",
       "      <th>payload_size</th>\n",
       "      <th>label</th>\n",
       "    </tr>\n",
       "  </thead>\n",
       "  <tbody>\n",
       "    <tr>\n",
       "      <th>0</th>\n",
       "      <td>253</td>\n",
       "      <td>17</td>\n",
       "      <td>3232267010</td>\n",
       "      <td>3232267263</td>\n",
       "      <td>138.0</td>\n",
       "      <td>138.0</td>\n",
       "      <td>None</td>\n",
       "      <td>1112048527.695158</td>\n",
       "      <td>239</td>\n",
       "      <td>attack</td>\n",
       "    </tr>\n",
       "    <tr>\n",
       "      <th>1</th>\n",
       "      <td>221</td>\n",
       "      <td>17</td>\n",
       "      <td>3232267009</td>\n",
       "      <td>3232267263</td>\n",
       "      <td>138.0</td>\n",
       "      <td>138.0</td>\n",
       "      <td>None</td>\n",
       "      <td>1112048628.854794</td>\n",
       "      <td>207</td>\n",
       "      <td>attack</td>\n",
       "    </tr>\n",
       "    <tr>\n",
       "      <th>2</th>\n",
       "      <td>243</td>\n",
       "      <td>17</td>\n",
       "      <td>3232267010</td>\n",
       "      <td>3232267263</td>\n",
       "      <td>138.0</td>\n",
       "      <td>138.0</td>\n",
       "      <td>None</td>\n",
       "      <td>1112048628.855234</td>\n",
       "      <td>229</td>\n",
       "      <td>attack</td>\n",
       "    </tr>\n",
       "    <tr>\n",
       "      <th>3</th>\n",
       "      <td>221</td>\n",
       "      <td>17</td>\n",
       "      <td>3232267009</td>\n",
       "      <td>3232267263</td>\n",
       "      <td>138.0</td>\n",
       "      <td>138.0</td>\n",
       "      <td>None</td>\n",
       "      <td>1112048630.375312</td>\n",
       "      <td>207</td>\n",
       "      <td>attack</td>\n",
       "    </tr>\n",
       "    <tr>\n",
       "      <th>4</th>\n",
       "      <td>243</td>\n",
       "      <td>17</td>\n",
       "      <td>3232267010</td>\n",
       "      <td>3232267263</td>\n",
       "      <td>138.0</td>\n",
       "      <td>138.0</td>\n",
       "      <td>None</td>\n",
       "      <td>1112048630.375724</td>\n",
       "      <td>229</td>\n",
       "      <td>attack</td>\n",
       "    </tr>\n",
       "  </tbody>\n",
       "</table>\n",
       "</div>"
      ],
      "text/plain": [
       "   packet_length  protocol_type      src_ip      dst_ip  src_port  dst_port  \\\n",
       "0            253             17  3232267010  3232267263     138.0     138.0   \n",
       "1            221             17  3232267009  3232267263     138.0     138.0   \n",
       "2            243             17  3232267010  3232267263     138.0     138.0   \n",
       "3            221             17  3232267009  3232267263     138.0     138.0   \n",
       "4            243             17  3232267010  3232267263     138.0     138.0   \n",
       "\n",
       "  flags         time_stamp  payload_size   label  \n",
       "0  None  1112048527.695158           239  attack  \n",
       "1  None  1112048628.854794           207  attack  \n",
       "2  None  1112048628.855234           229  attack  \n",
       "3  None  1112048630.375312           207  attack  \n",
       "4  None  1112048630.375724           229  attack  "
      ]
     },
     "execution_count": 11,
     "metadata": {},
     "output_type": "execute_result"
    }
   ],
   "source": [
    "attack_df.head()"
   ]
  },
  {
   "cell_type": "code",
   "execution_count": 12,
   "id": "a9d2adaf",
   "metadata": {},
   "outputs": [
    {
     "data": {
      "text/html": [
       "<div>\n",
       "<style scoped>\n",
       "    .dataframe tbody tr th:only-of-type {\n",
       "        vertical-align: middle;\n",
       "    }\n",
       "\n",
       "    .dataframe tbody tr th {\n",
       "        vertical-align: top;\n",
       "    }\n",
       "\n",
       "    .dataframe thead th {\n",
       "        text-align: right;\n",
       "    }\n",
       "</style>\n",
       "<table border=\"1\" class=\"dataframe\">\n",
       "  <thead>\n",
       "    <tr style=\"text-align: right;\">\n",
       "      <th></th>\n",
       "      <th>packet_length</th>\n",
       "      <th>protocol_type</th>\n",
       "      <th>src_ip</th>\n",
       "      <th>dst_ip</th>\n",
       "      <th>src_port</th>\n",
       "      <th>dst_port</th>\n",
       "      <th>flags</th>\n",
       "      <th>time_stamp</th>\n",
       "      <th>payload_size</th>\n",
       "      <th>label</th>\n",
       "    </tr>\n",
       "  </thead>\n",
       "  <tbody>\n",
       "    <tr>\n",
       "      <th>0</th>\n",
       "      <td>54</td>\n",
       "      <td>2</td>\n",
       "      <td>3232238081</td>\n",
       "      <td>3758096406</td>\n",
       "      <td>NaN</td>\n",
       "      <td>NaN</td>\n",
       "      <td>None</td>\n",
       "      <td>1458121359.327326</td>\n",
       "      <td>40</td>\n",
       "      <td>normal</td>\n",
       "    </tr>\n",
       "    <tr>\n",
       "      <th>1</th>\n",
       "      <td>54</td>\n",
       "      <td>2</td>\n",
       "      <td>3232238081</td>\n",
       "      <td>3758096406</td>\n",
       "      <td>NaN</td>\n",
       "      <td>NaN</td>\n",
       "      <td>None</td>\n",
       "      <td>1458121359.334207</td>\n",
       "      <td>40</td>\n",
       "      <td>normal</td>\n",
       "    </tr>\n",
       "    <tr>\n",
       "      <th>2</th>\n",
       "      <td>54</td>\n",
       "      <td>2</td>\n",
       "      <td>3232238081</td>\n",
       "      <td>3758096406</td>\n",
       "      <td>NaN</td>\n",
       "      <td>NaN</td>\n",
       "      <td>None</td>\n",
       "      <td>1458121359.334386</td>\n",
       "      <td>40</td>\n",
       "      <td>normal</td>\n",
       "    </tr>\n",
       "    <tr>\n",
       "      <th>3</th>\n",
       "      <td>54</td>\n",
       "      <td>2</td>\n",
       "      <td>3232238081</td>\n",
       "      <td>3758096406</td>\n",
       "      <td>NaN</td>\n",
       "      <td>NaN</td>\n",
       "      <td>None</td>\n",
       "      <td>1458121359.334559</td>\n",
       "      <td>40</td>\n",
       "      <td>normal</td>\n",
       "    </tr>\n",
       "    <tr>\n",
       "      <th>4</th>\n",
       "      <td>63</td>\n",
       "      <td>17</td>\n",
       "      <td>3232238081</td>\n",
       "      <td>3758096636</td>\n",
       "      <td>63781.0</td>\n",
       "      <td>5355.0</td>\n",
       "      <td>None</td>\n",
       "      <td>1458121359.336941</td>\n",
       "      <td>49</td>\n",
       "      <td>normal</td>\n",
       "    </tr>\n",
       "  </tbody>\n",
       "</table>\n",
       "</div>"
      ],
      "text/plain": [
       "   packet_length  protocol_type      src_ip      dst_ip  src_port  dst_port  \\\n",
       "0             54              2  3232238081  3758096406       NaN       NaN   \n",
       "1             54              2  3232238081  3758096406       NaN       NaN   \n",
       "2             54              2  3232238081  3758096406       NaN       NaN   \n",
       "3             54              2  3232238081  3758096406       NaN       NaN   \n",
       "4             63             17  3232238081  3758096636   63781.0    5355.0   \n",
       "\n",
       "  flags         time_stamp  payload_size   label  \n",
       "0  None  1458121359.327326            40  normal  \n",
       "1  None  1458121359.334207            40  normal  \n",
       "2  None  1458121359.334386            40  normal  \n",
       "3  None  1458121359.334559            40  normal  \n",
       "4  None  1458121359.336941            49  normal  "
      ]
     },
     "execution_count": 12,
     "metadata": {},
     "output_type": "execute_result"
    }
   ],
   "source": [
    "normal_df.head()"
   ]
  },
  {
   "cell_type": "code",
   "execution_count": 14,
   "id": "924e1c71",
   "metadata": {},
   "outputs": [],
   "source": [
    "# Concatenate attack and normal DataFrames\n",
    "combined_df = pd.concat([attack_df, normal_df], ignore_index=True)"
   ]
  },
  {
   "cell_type": "code",
   "execution_count": 15,
   "id": "859553e0",
   "metadata": {},
   "outputs": [
    {
     "name": "stdout",
     "output_type": "stream",
     "text": [
      "Number of attack instances: 209277\n",
      "Number of normal instances: 818\n"
     ]
    }
   ],
   "source": [
    "# Print count of each label\n",
    "print(\"Number of attack instances:\", combined_df[combined_df['label'] == 'attack'].shape[0])\n",
    "print(\"Number of normal instances:\", combined_df[combined_df['label'] == 'normal'].shape[0])"
   ]
  },
  {
   "cell_type": "code",
   "execution_count": 16,
   "id": "fc65dd65",
   "metadata": {},
   "outputs": [],
   "source": [
    "# Shuffle the DataFrame to mix attack and normal data\n",
    "combined_df = combined_df.sample(frac=1).reset_index(drop=True)"
   ]
  },
  {
   "cell_type": "code",
   "execution_count": 19,
   "id": "0753fcbd",
   "metadata": {},
   "outputs": [],
   "source": [
    "# Convert timestamp to seconds\n",
    "combined_df['time_stamp'] = combined_df['time_stamp'].apply(convert_timestamp_to_seconds)"
   ]
  },
  {
   "cell_type": "code",
   "execution_count": 20,
   "id": "28caa2e4",
   "metadata": {},
   "outputs": [],
   "source": [
    "# Label encode the \"flags\" column\n",
    "le = LabelEncoder()\n",
    "combined_df['flags'] = le.fit_transform(combined_df['flags'].astype(str))"
   ]
  },
  {
   "cell_type": "code",
   "execution_count": 21,
   "id": "760903d6",
   "metadata": {},
   "outputs": [],
   "source": [
    "# Split features and labels\n",
    "X = combined_df.drop('label', axis=1)\n",
    "y = combined_df['label']"
   ]
  },
  {
   "cell_type": "code",
   "execution_count": 22,
   "id": "cdac5ed2",
   "metadata": {},
   "outputs": [],
   "source": [
    "# Split data into train and test sets\n",
    "X_train, X_test, y_train, y_test = train_test_split(X, y, test_size=0.2, random_state=42)"
   ]
  },
  {
   "cell_type": "code",
   "execution_count": 23,
   "id": "ea0c03c5",
   "metadata": {},
   "outputs": [],
   "source": [
    "# Impute missing values in X_train\n",
    "imputer = SimpleImputer(strategy='mean')\n",
    "X_train_imputed = imputer.fit_transform(X_train)"
   ]
  },
  {
   "cell_type": "code",
   "execution_count": 24,
   "id": "1304c014",
   "metadata": {},
   "outputs": [
    {
     "data": {
      "text/html": [
       "<style>#sk-container-id-1 {color: black;background-color: white;}#sk-container-id-1 pre{padding: 0;}#sk-container-id-1 div.sk-toggleable {background-color: white;}#sk-container-id-1 label.sk-toggleable__label {cursor: pointer;display: block;width: 100%;margin-bottom: 0;padding: 0.3em;box-sizing: border-box;text-align: center;}#sk-container-id-1 label.sk-toggleable__label-arrow:before {content: \"▸\";float: left;margin-right: 0.25em;color: #696969;}#sk-container-id-1 label.sk-toggleable__label-arrow:hover:before {color: black;}#sk-container-id-1 div.sk-estimator:hover label.sk-toggleable__label-arrow:before {color: black;}#sk-container-id-1 div.sk-toggleable__content {max-height: 0;max-width: 0;overflow: hidden;text-align: left;background-color: #f0f8ff;}#sk-container-id-1 div.sk-toggleable__content pre {margin: 0.2em;color: black;border-radius: 0.25em;background-color: #f0f8ff;}#sk-container-id-1 input.sk-toggleable__control:checked~div.sk-toggleable__content {max-height: 200px;max-width: 100%;overflow: auto;}#sk-container-id-1 input.sk-toggleable__control:checked~label.sk-toggleable__label-arrow:before {content: \"▾\";}#sk-container-id-1 div.sk-estimator input.sk-toggleable__control:checked~label.sk-toggleable__label {background-color: #d4ebff;}#sk-container-id-1 div.sk-label input.sk-toggleable__control:checked~label.sk-toggleable__label {background-color: #d4ebff;}#sk-container-id-1 input.sk-hidden--visually {border: 0;clip: rect(1px 1px 1px 1px);clip: rect(1px, 1px, 1px, 1px);height: 1px;margin: -1px;overflow: hidden;padding: 0;position: absolute;width: 1px;}#sk-container-id-1 div.sk-estimator {font-family: monospace;background-color: #f0f8ff;border: 1px dotted black;border-radius: 0.25em;box-sizing: border-box;margin-bottom: 0.5em;}#sk-container-id-1 div.sk-estimator:hover {background-color: #d4ebff;}#sk-container-id-1 div.sk-parallel-item::after {content: \"\";width: 100%;border-bottom: 1px solid gray;flex-grow: 1;}#sk-container-id-1 div.sk-label:hover label.sk-toggleable__label {background-color: #d4ebff;}#sk-container-id-1 div.sk-serial::before {content: \"\";position: absolute;border-left: 1px solid gray;box-sizing: border-box;top: 0;bottom: 0;left: 50%;z-index: 0;}#sk-container-id-1 div.sk-serial {display: flex;flex-direction: column;align-items: center;background-color: white;padding-right: 0.2em;padding-left: 0.2em;position: relative;}#sk-container-id-1 div.sk-item {position: relative;z-index: 1;}#sk-container-id-1 div.sk-parallel {display: flex;align-items: stretch;justify-content: center;background-color: white;position: relative;}#sk-container-id-1 div.sk-item::before, #sk-container-id-1 div.sk-parallel-item::before {content: \"\";position: absolute;border-left: 1px solid gray;box-sizing: border-box;top: 0;bottom: 0;left: 50%;z-index: -1;}#sk-container-id-1 div.sk-parallel-item {display: flex;flex-direction: column;z-index: 1;position: relative;background-color: white;}#sk-container-id-1 div.sk-parallel-item:first-child::after {align-self: flex-end;width: 50%;}#sk-container-id-1 div.sk-parallel-item:last-child::after {align-self: flex-start;width: 50%;}#sk-container-id-1 div.sk-parallel-item:only-child::after {width: 0;}#sk-container-id-1 div.sk-dashed-wrapped {border: 1px dashed gray;margin: 0 0.4em 0.5em 0.4em;box-sizing: border-box;padding-bottom: 0.4em;background-color: white;}#sk-container-id-1 div.sk-label label {font-family: monospace;font-weight: bold;display: inline-block;line-height: 1.2em;}#sk-container-id-1 div.sk-label-container {text-align: center;}#sk-container-id-1 div.sk-container {/* jupyter's `normalize.less` sets `[hidden] { display: none; }` but bootstrap.min.css set `[hidden] { display: none !important; }` so we also need the `!important` here to be able to override the default hidden behavior on the sphinx rendered scikit-learn.org. See: https://github.com/scikit-learn/scikit-learn/issues/21755 */display: inline-block !important;position: relative;}#sk-container-id-1 div.sk-text-repr-fallback {display: none;}</style><div id=\"sk-container-id-1\" class=\"sk-top-container\"><div class=\"sk-text-repr-fallback\"><pre>RandomForestClassifier()</pre><b>In a Jupyter environment, please rerun this cell to show the HTML representation or trust the notebook. <br />On GitHub, the HTML representation is unable to render, please try loading this page with nbviewer.org.</b></div><div class=\"sk-container\" hidden><div class=\"sk-item\"><div class=\"sk-estimator sk-toggleable\"><input class=\"sk-toggleable__control sk-hidden--visually\" id=\"sk-estimator-id-1\" type=\"checkbox\" checked><label for=\"sk-estimator-id-1\" class=\"sk-toggleable__label sk-toggleable__label-arrow\">RandomForestClassifier</label><div class=\"sk-toggleable__content\"><pre>RandomForestClassifier()</pre></div></div></div></div></div>"
      ],
      "text/plain": [
       "RandomForestClassifier()"
      ]
     },
     "execution_count": 24,
     "metadata": {},
     "output_type": "execute_result"
    }
   ],
   "source": [
    "# Train RandomForestClassifier\n",
    "clf = RandomForestClassifier()\n",
    "clf.fit(X_train_imputed, y_train)"
   ]
  },
  {
   "cell_type": "code",
   "execution_count": 25,
   "id": "4476b9e9",
   "metadata": {},
   "outputs": [],
   "source": [
    "# Predict\n",
    "X_test_imputed = imputer.transform(X_test)\n",
    "y_pred = clf.predict(X_test_imputed)"
   ]
  },
  {
   "cell_type": "code",
   "execution_count": 26,
   "id": "2c4f7016",
   "metadata": {},
   "outputs": [
    {
     "name": "stdout",
     "output_type": "stream",
     "text": [
      "Accuracy: 1.0\n"
     ]
    }
   ],
   "source": [
    "# Evaluate\n",
    "accuracy = accuracy_score(y_test, y_pred)\n",
    "print(\"Accuracy:\", accuracy)"
   ]
  },
  {
   "cell_type": "code",
   "execution_count": 28,
   "id": "17605611",
   "metadata": {},
   "outputs": [
    {
     "name": "stdout",
     "output_type": "stream",
     "text": [
      "Classification Report:\n",
      "              precision    recall  f1-score   support\n",
      "\n",
      "      attack       1.00      1.00      1.00     41852\n",
      "      normal       1.00      1.00      1.00       167\n",
      "\n",
      "    accuracy                           1.00     42019\n",
      "   macro avg       1.00      1.00      1.00     42019\n",
      "weighted avg       1.00      1.00      1.00     42019\n",
      "\n"
     ]
    }
   ],
   "source": [
    "from sklearn.metrics import classification_report\n",
    "# Report\n",
    "print(\"Classification Report:\")\n",
    "print(classification_report(y_test, y_pred))"
   ]
  },
  {
   "cell_type": "code",
   "execution_count": 30,
   "id": "d53fe36f",
   "metadata": {},
   "outputs": [
    {
     "data": {
      "text/plain": [
       "['ransomware_rf.sav']"
      ]
     },
     "execution_count": 30,
     "metadata": {},
     "output_type": "execute_result"
    }
   ],
   "source": [
    "# Save the model to a .sav file\n",
    "joblib.dump(clf, 'ransomware_rf.sav')"
   ]
  },
  {
   "cell_type": "code",
   "execution_count": 31,
   "id": "9b5b02aa",
   "metadata": {},
   "outputs": [],
   "source": [
    "import pickle\n",
    "\n",
    "# Save the model to a file\n",
    "with open('ransomware_rf.pkl', 'wb') as f:\n",
    "    pickle.dump(clf, f)"
   ]
  },
  {
   "cell_type": "markdown",
   "id": "ac5c9778",
   "metadata": {},
   "source": [
    "# Resample Normal Data"
   ]
  },
  {
   "cell_type": "code",
   "execution_count": 35,
   "id": "7c67948c",
   "metadata": {},
   "outputs": [],
   "source": [
    "import os\n",
    "import pandas as pd\n",
    "from scapy.all import *\n",
    "from ipaddress import ip_address\n",
    "from sklearn.model_selection import train_test_split\n",
    "from sklearn.ensemble import RandomForestClassifier\n",
    "from sklearn.metrics import accuracy_score\n",
    "from sklearn.impute import SimpleImputer\n",
    "from sklearn.preprocessing import LabelEncoder\n",
    "from imblearn.over_sampling import RandomOverSampler\n",
    "from sklearn.metrics import classification_report\n",
    "import pickle\n",
    "import joblib"
   ]
  },
  {
   "cell_type": "code",
   "execution_count": 36,
   "id": "1178530d",
   "metadata": {},
   "outputs": [],
   "source": [
    "# Function to extract features from a single PCAP file\n",
    "def extract_features_from_pcap(pcap_file):\n",
    "    packets = rdpcap(pcap_file)\n",
    "    \n",
    "    packet_features = []\n",
    "    for pkt in packets:\n",
    "        if IP in pkt:\n",
    "            packet_length = len(pkt)\n",
    "            protocol_type = pkt[IP].proto\n",
    "            src_ip = int(ip_address(pkt[IP].src))  # Convert source IP to integer\n",
    "            dst_ip = int(ip_address(pkt[IP].dst))  # Convert destination IP to integer\n",
    "            if TCP in pkt:\n",
    "                src_port = pkt[TCP].sport\n",
    "                dst_port = pkt[TCP].dport\n",
    "                flags = pkt[TCP].flags\n",
    "            elif UDP in pkt:\n",
    "                src_port = pkt[UDP].sport\n",
    "                dst_port = pkt[UDP].dport\n",
    "                flags = None\n",
    "            else:\n",
    "                src_port = None\n",
    "                dst_port = None\n",
    "                flags = None\n",
    "            time_stamp = pkt.time\n",
    "            payload_size = len(pkt.payload)\n",
    "            \n",
    "            packet_features.append({\n",
    "                'packet_length': packet_length,\n",
    "                'protocol_type': protocol_type,\n",
    "                'src_ip': src_ip,\n",
    "                'dst_ip': dst_ip,\n",
    "                'src_port': src_port,\n",
    "                'dst_port': dst_port,\n",
    "                'flags': flags,\n",
    "                'time_stamp': time_stamp,\n",
    "                'payload_size': payload_size\n",
    "            })\n",
    "    \n",
    "    return packet_features"
   ]
  },
  {
   "cell_type": "code",
   "execution_count": 37,
   "id": "91e6a650",
   "metadata": {},
   "outputs": [],
   "source": [
    "# Function to convert timestamp to seconds\n",
    "def convert_timestamp_to_seconds(timestamp):\n",
    "    return int(timestamp)"
   ]
  },
  {
   "cell_type": "code",
   "execution_count": 38,
   "id": "21a693ee",
   "metadata": {},
   "outputs": [],
   "source": [
    "# Function to extract features from all PCAP files in a folder\n",
    "def extract_features_from_folder(folder_path):\n",
    "    all_features = []\n",
    "    pcap_files = [f for f in os.listdir(folder_path) if f.endswith('.pcap') or f.endswith('.pcapng')]\n",
    "    for pcap_file in pcap_files:\n",
    "        pcap_file_path = os.path.join(folder_path, pcap_file)\n",
    "        features = extract_features_from_pcap(pcap_file_path)\n",
    "        all_features.extend(features)\n",
    "    return all_features"
   ]
  },
  {
   "cell_type": "code",
   "execution_count": 39,
   "id": "b8a69f91",
   "metadata": {},
   "outputs": [],
   "source": [
    "# Path to the 'attack' and 'normal' folders\n",
    "attack_folder = 'attack'\n",
    "normal_folder = 'normal'"
   ]
  },
  {
   "cell_type": "code",
   "execution_count": 40,
   "id": "ed6b471d",
   "metadata": {},
   "outputs": [],
   "source": [
    "# Extract features from 'attack' folder\n",
    "attack_features = extract_features_from_folder(attack_folder)"
   ]
  },
  {
   "cell_type": "code",
   "execution_count": 41,
   "id": "3a38e1e1",
   "metadata": {},
   "outputs": [],
   "source": [
    "# Extract features from 'normal' folder\n",
    "normal_features = extract_features_from_folder(normal_folder)"
   ]
  },
  {
   "cell_type": "code",
   "execution_count": 42,
   "id": "d69fe31d",
   "metadata": {},
   "outputs": [],
   "source": [
    "# Convert features to DataFrame\n",
    "attack_df = pd.DataFrame(attack_features)\n",
    "normal_df = pd.DataFrame(normal_features)"
   ]
  },
  {
   "cell_type": "code",
   "execution_count": 43,
   "id": "bce2eeb6",
   "metadata": {},
   "outputs": [],
   "source": [
    "# Add labels to the DataFrames\n",
    "attack_df['label'] = 'attack'\n",
    "normal_df['label'] = 'normal'"
   ]
  },
  {
   "cell_type": "code",
   "execution_count": 44,
   "id": "afa99b04",
   "metadata": {},
   "outputs": [],
   "source": [
    "# Concatenate attack and normal DataFrames\n",
    "combined_df = pd.concat([attack_df, normal_df], ignore_index=True)"
   ]
  },
  {
   "cell_type": "code",
   "execution_count": 45,
   "id": "345674c2",
   "metadata": {},
   "outputs": [
    {
     "name": "stdout",
     "output_type": "stream",
     "text": [
      "Number of attack instances: 209277\n",
      "Number of normal instances: 818\n"
     ]
    }
   ],
   "source": [
    "# Print count of each label\n",
    "print(\"Number of attack instances:\", combined_df[combined_df['label'] == 'attack'].shape[0])\n",
    "print(\"Number of normal instances:\", combined_df[combined_df['label'] == 'normal'].shape[0])"
   ]
  },
  {
   "cell_type": "code",
   "execution_count": 46,
   "id": "9367e653",
   "metadata": {},
   "outputs": [],
   "source": [
    "# Shuffle the DataFrame to mix attack and normal data\n",
    "combined_df = combined_df.sample(frac=1).reset_index(drop=True)"
   ]
  },
  {
   "cell_type": "code",
   "execution_count": 47,
   "id": "085c499a",
   "metadata": {},
   "outputs": [],
   "source": [
    "# Convert timestamp to seconds\n",
    "combined_df['time_stamp'] = combined_df['time_stamp'].apply(convert_timestamp_to_seconds)"
   ]
  },
  {
   "cell_type": "code",
   "execution_count": 48,
   "id": "1141900a",
   "metadata": {},
   "outputs": [],
   "source": [
    "# Label encode the \"flags\" column\n",
    "le = LabelEncoder()\n",
    "combined_df['flags'] = le.fit_transform(combined_df['flags'].astype(str))"
   ]
  },
  {
   "cell_type": "code",
   "execution_count": 49,
   "id": "05424adf",
   "metadata": {},
   "outputs": [],
   "source": [
    "# Split features and labels\n",
    "X = combined_df.drop('label', axis=1)\n",
    "y = combined_df['label']"
   ]
  },
  {
   "cell_type": "code",
   "execution_count": 50,
   "id": "da2b1e31",
   "metadata": {},
   "outputs": [],
   "source": [
    "# Resample the data to handle class imbalance\n",
    "ros = RandomOverSampler(random_state=42)\n",
    "X_resampled, y_resampled = ros.fit_resample(X, y)"
   ]
  },
  {
   "cell_type": "code",
   "execution_count": 51,
   "id": "52bdd2de",
   "metadata": {},
   "outputs": [
    {
     "name": "stdout",
     "output_type": "stream",
     "text": [
      "Number of attack instances after resampling: 209277\n",
      "Number of normal instances after resampling: 209277\n"
     ]
    }
   ],
   "source": [
    "# Print the counts of each class after resampling\n",
    "print(\"Number of attack instances after resampling:\", sum(y_resampled == 'attack'))\n",
    "print(\"Number of normal instances after resampling:\", sum(y_resampled == 'normal'))"
   ]
  },
  {
   "cell_type": "code",
   "execution_count": 52,
   "id": "4cfc8e86",
   "metadata": {},
   "outputs": [],
   "source": [
    "# Split resampled data into train and test sets\n",
    "X_train, X_test, y_train, y_test = train_test_split(X_resampled, y_resampled, test_size=0.2, random_state=42)"
   ]
  },
  {
   "cell_type": "code",
   "execution_count": 53,
   "id": "ec421fcb",
   "metadata": {},
   "outputs": [],
   "source": [
    "# Impute missing values in X_train\n",
    "imputer = SimpleImputer(strategy='mean')\n",
    "X_train_imputed = imputer.fit_transform(X_train)"
   ]
  },
  {
   "cell_type": "code",
   "execution_count": 54,
   "id": "85c96eb8",
   "metadata": {},
   "outputs": [
    {
     "data": {
      "text/html": [
       "<style>#sk-container-id-2 {color: black;background-color: white;}#sk-container-id-2 pre{padding: 0;}#sk-container-id-2 div.sk-toggleable {background-color: white;}#sk-container-id-2 label.sk-toggleable__label {cursor: pointer;display: block;width: 100%;margin-bottom: 0;padding: 0.3em;box-sizing: border-box;text-align: center;}#sk-container-id-2 label.sk-toggleable__label-arrow:before {content: \"▸\";float: left;margin-right: 0.25em;color: #696969;}#sk-container-id-2 label.sk-toggleable__label-arrow:hover:before {color: black;}#sk-container-id-2 div.sk-estimator:hover label.sk-toggleable__label-arrow:before {color: black;}#sk-container-id-2 div.sk-toggleable__content {max-height: 0;max-width: 0;overflow: hidden;text-align: left;background-color: #f0f8ff;}#sk-container-id-2 div.sk-toggleable__content pre {margin: 0.2em;color: black;border-radius: 0.25em;background-color: #f0f8ff;}#sk-container-id-2 input.sk-toggleable__control:checked~div.sk-toggleable__content {max-height: 200px;max-width: 100%;overflow: auto;}#sk-container-id-2 input.sk-toggleable__control:checked~label.sk-toggleable__label-arrow:before {content: \"▾\";}#sk-container-id-2 div.sk-estimator input.sk-toggleable__control:checked~label.sk-toggleable__label {background-color: #d4ebff;}#sk-container-id-2 div.sk-label input.sk-toggleable__control:checked~label.sk-toggleable__label {background-color: #d4ebff;}#sk-container-id-2 input.sk-hidden--visually {border: 0;clip: rect(1px 1px 1px 1px);clip: rect(1px, 1px, 1px, 1px);height: 1px;margin: -1px;overflow: hidden;padding: 0;position: absolute;width: 1px;}#sk-container-id-2 div.sk-estimator {font-family: monospace;background-color: #f0f8ff;border: 1px dotted black;border-radius: 0.25em;box-sizing: border-box;margin-bottom: 0.5em;}#sk-container-id-2 div.sk-estimator:hover {background-color: #d4ebff;}#sk-container-id-2 div.sk-parallel-item::after {content: \"\";width: 100%;border-bottom: 1px solid gray;flex-grow: 1;}#sk-container-id-2 div.sk-label:hover label.sk-toggleable__label {background-color: #d4ebff;}#sk-container-id-2 div.sk-serial::before {content: \"\";position: absolute;border-left: 1px solid gray;box-sizing: border-box;top: 0;bottom: 0;left: 50%;z-index: 0;}#sk-container-id-2 div.sk-serial {display: flex;flex-direction: column;align-items: center;background-color: white;padding-right: 0.2em;padding-left: 0.2em;position: relative;}#sk-container-id-2 div.sk-item {position: relative;z-index: 1;}#sk-container-id-2 div.sk-parallel {display: flex;align-items: stretch;justify-content: center;background-color: white;position: relative;}#sk-container-id-2 div.sk-item::before, #sk-container-id-2 div.sk-parallel-item::before {content: \"\";position: absolute;border-left: 1px solid gray;box-sizing: border-box;top: 0;bottom: 0;left: 50%;z-index: -1;}#sk-container-id-2 div.sk-parallel-item {display: flex;flex-direction: column;z-index: 1;position: relative;background-color: white;}#sk-container-id-2 div.sk-parallel-item:first-child::after {align-self: flex-end;width: 50%;}#sk-container-id-2 div.sk-parallel-item:last-child::after {align-self: flex-start;width: 50%;}#sk-container-id-2 div.sk-parallel-item:only-child::after {width: 0;}#sk-container-id-2 div.sk-dashed-wrapped {border: 1px dashed gray;margin: 0 0.4em 0.5em 0.4em;box-sizing: border-box;padding-bottom: 0.4em;background-color: white;}#sk-container-id-2 div.sk-label label {font-family: monospace;font-weight: bold;display: inline-block;line-height: 1.2em;}#sk-container-id-2 div.sk-label-container {text-align: center;}#sk-container-id-2 div.sk-container {/* jupyter's `normalize.less` sets `[hidden] { display: none; }` but bootstrap.min.css set `[hidden] { display: none !important; }` so we also need the `!important` here to be able to override the default hidden behavior on the sphinx rendered scikit-learn.org. See: https://github.com/scikit-learn/scikit-learn/issues/21755 */display: inline-block !important;position: relative;}#sk-container-id-2 div.sk-text-repr-fallback {display: none;}</style><div id=\"sk-container-id-2\" class=\"sk-top-container\"><div class=\"sk-text-repr-fallback\"><pre>RandomForestClassifier()</pre><b>In a Jupyter environment, please rerun this cell to show the HTML representation or trust the notebook. <br />On GitHub, the HTML representation is unable to render, please try loading this page with nbviewer.org.</b></div><div class=\"sk-container\" hidden><div class=\"sk-item\"><div class=\"sk-estimator sk-toggleable\"><input class=\"sk-toggleable__control sk-hidden--visually\" id=\"sk-estimator-id-2\" type=\"checkbox\" checked><label for=\"sk-estimator-id-2\" class=\"sk-toggleable__label sk-toggleable__label-arrow\">RandomForestClassifier</label><div class=\"sk-toggleable__content\"><pre>RandomForestClassifier()</pre></div></div></div></div></div>"
      ],
      "text/plain": [
       "RandomForestClassifier()"
      ]
     },
     "execution_count": 54,
     "metadata": {},
     "output_type": "execute_result"
    }
   ],
   "source": [
    "# Train RandomForestClassifier\n",
    "clf = RandomForestClassifier()\n",
    "clf.fit(X_train_imputed, y_train)"
   ]
  },
  {
   "cell_type": "code",
   "execution_count": 55,
   "id": "e332f55d",
   "metadata": {},
   "outputs": [],
   "source": [
    "# Predict\n",
    "X_test_imputed = imputer.transform(X_test)\n",
    "y_pred = clf.predict(X_test_imputed)"
   ]
  },
  {
   "cell_type": "code",
   "execution_count": 57,
   "id": "2f38d69f",
   "metadata": {},
   "outputs": [
    {
     "name": "stdout",
     "output_type": "stream",
     "text": [
      "Accuracy after resampling: 1.0\n"
     ]
    }
   ],
   "source": [
    "# Evaluate the model\n",
    "accuracy = accuracy_score(y_test, y_pred)\n",
    "print(\"Accuracy after resampling:\", accuracy)"
   ]
  },
  {
   "cell_type": "code",
   "execution_count": 58,
   "id": "377f79b7",
   "metadata": {},
   "outputs": [
    {
     "name": "stdout",
     "output_type": "stream",
     "text": [
      "Classification Report after resampling:\n",
      "              precision    recall  f1-score   support\n",
      "\n",
      "      attack       1.00      1.00      1.00     41947\n",
      "      normal       1.00      1.00      1.00     41764\n",
      "\n",
      "    accuracy                           1.00     83711\n",
      "   macro avg       1.00      1.00      1.00     83711\n",
      "weighted avg       1.00      1.00      1.00     83711\n",
      "\n"
     ]
    }
   ],
   "source": [
    "# Report\n",
    "print(\"Classification Report after resampling:\")\n",
    "print(classification_report(y_test, y_pred))"
   ]
  },
  {
   "cell_type": "code",
   "execution_count": 59,
   "id": "76c1e116",
   "metadata": {},
   "outputs": [
    {
     "data": {
      "text/plain": [
       "['resample_ransomware_rf.sav']"
      ]
     },
     "execution_count": 59,
     "metadata": {},
     "output_type": "execute_result"
    }
   ],
   "source": [
    "# Save the model to a .sav file\n",
    "joblib.dump(clf, 'resample_ransomware_rf.sav')"
   ]
  },
  {
   "cell_type": "code",
   "execution_count": 60,
   "id": "a7ecbe50",
   "metadata": {},
   "outputs": [],
   "source": [
    "# Save the model to a file\n",
    "with open('resample_ransomware_rf.pkl', 'wb') as f:\n",
    "    pickle.dump(clf, f)"
   ]
  },
  {
   "cell_type": "markdown",
   "id": "a2635bc2",
   "metadata": {},
   "source": [
    "# Regularization with cross-validation"
   ]
  },
  {
   "cell_type": "code",
   "execution_count": 63,
   "id": "1089d58b",
   "metadata": {},
   "outputs": [
    {
     "name": "stdout",
     "output_type": "stream",
     "text": [
      "Cross-validation scores: [1.        1.        0.9999405 1.        1.       ]\n",
      "Mean CV score: 0.9999881005503497\n",
      "Accuracy after regularization: 1.0\n"
     ]
    }
   ],
   "source": [
    "from sklearn.model_selection import train_test_split, cross_val_score\n",
    "\n",
    "# Split data into train and test sets\n",
    "X_train, X_test, y_train, y_test = train_test_split(X, y, test_size=0.2, random_state=42)\n",
    "\n",
    "# Impute missing values in X_train\n",
    "imputer = SimpleImputer(strategy='mean')\n",
    "X_train_imputed = imputer.fit_transform(X_train)\n",
    "\n",
    "# Regularization with cross-validation\n",
    "clf = RandomForestClassifier()\n",
    "cv_scores = cross_val_score(clf, X_train_imputed, y_train, cv=5)\n",
    "print(\"Cross-validation scores:\", cv_scores)\n",
    "print(\"Mean CV score:\", cv_scores.mean())\n",
    "\n",
    "# Train RandomForestClassifier\n",
    "clf.fit(X_train_imputed, y_train)\n",
    "\n",
    "# Predict\n",
    "X_test_imputed = imputer.transform(X_test)\n",
    "y_pred = clf.predict(X_test_imputed)\n",
    "\n",
    "# Evaluate\n",
    "accuracy = accuracy_score(y_test, y_pred)\n",
    "print(\"Accuracy after regularization:\", accuracy)"
   ]
  },
  {
   "cell_type": "markdown",
   "id": "aba3d808",
   "metadata": {},
   "source": [
    "# Test on new data"
   ]
  },
  {
   "cell_type": "code",
   "execution_count": 2,
   "id": "112c7af3",
   "metadata": {},
   "outputs": [],
   "source": [
    "import os\n",
    "import pandas as pd\n",
    "from tkinter import Tk, Button, Label, filedialog\n",
    "from scapy.all import *\n",
    "from ipaddress import ip_address\n",
    "from sklearn.impute import SimpleImputer\n",
    "from sklearn.preprocessing import LabelEncoder\n",
    "import joblib\n",
    "\n",
    "# Load the trained model\n",
    "model = joblib.load('ransomware_rf.sav')\n",
    "\n",
    "# Function to extract features from a single PCAP file\n",
    "def extract_features_from_pcap(pcap_file):\n",
    "    packets = rdpcap(pcap_file)\n",
    "    \n",
    "    packet_features = []\n",
    "    for pkt in packets:\n",
    "        if IP in pkt:\n",
    "            packet_length = len(pkt)\n",
    "            protocol_type = pkt[IP].proto\n",
    "            src_ip = int(ip_address(pkt[IP].src))  # Convert source IP to integer\n",
    "            dst_ip = int(ip_address(pkt[IP].dst))  # Convert destination IP to integer\n",
    "            if TCP in pkt:\n",
    "                src_port = pkt[TCP].sport\n",
    "                dst_port = pkt[TCP].dport\n",
    "                flags = pkt[TCP].flags\n",
    "            elif UDP in pkt:\n",
    "                src_port = pkt[UDP].sport\n",
    "                dst_port = pkt[UDP].dport\n",
    "                flags = None\n",
    "            else:\n",
    "                src_port = None\n",
    "                dst_port = None\n",
    "                flags = None\n",
    "            time_stamp = pkt.time\n",
    "            payload_size = len(pkt.payload)\n",
    "            \n",
    "            packet_features.append({\n",
    "                'packet_length': packet_length,\n",
    "                'protocol_type': protocol_type,\n",
    "                'src_ip': src_ip,\n",
    "                'dst_ip': dst_ip,\n",
    "                'src_port': src_port,\n",
    "                'dst_port': dst_port,\n",
    "                'flags': flags,\n",
    "                'time_stamp': time_stamp,\n",
    "                'payload_size': payload_size\n",
    "            })\n",
    "    \n",
    "    return packet_features\n",
    "\n",
    "# Function to convert timestamp to seconds\n",
    "def convert_timestamp_to_seconds(timestamp):\n",
    "    return int(timestamp)\n",
    "\n",
    "# Function to extract features and apply model\n",
    "def process_file(file_path):\n",
    "    # Extract features\n",
    "    features = extract_features_from_pcap(file_path)\n",
    "    df = pd.DataFrame(features)\n",
    "    \n",
    "    # Convert timestamp to seconds\n",
    "    df['time_stamp'] = df['time_stamp'].apply(convert_timestamp_to_seconds)\n",
    "    \n",
    "    # Label encode the \"flags\" column\n",
    "    le = LabelEncoder()\n",
    "    df['flags'] = le.fit_transform(df['flags'].astype(str))\n",
    "    \n",
    "    # Impute missing values\n",
    "    imputer = SimpleImputer(strategy='mean')\n",
    "    X = imputer.fit_transform(df)\n",
    "    \n",
    "    # Apply model\n",
    "    predictions = model.predict(X)\n",
    "    \n",
    "    # Save predictions to CSV\n",
    "    df['predictions'] = predictions\n",
    "    df.to_csv('predictions.csv', index=False)\n",
    "\n",
    "# Function to handle browse button click event\n",
    "def browse_file():\n",
    "    file_path = filedialog.askopenfilename(filetypes=[('PCAP files', '*.pcap;*.pcapng;*.cap')])\n",
    "    if file_path:\n",
    "        process_file(file_path)\n",
    "        result_label.config(text=\"Predictions saved to predictions.csv\")\n",
    "\n",
    "# Create Tkinter window\n",
    "root = Tk()\n",
    "root.title(\"Ransomware Detection\")\n",
    "root.geometry(\"400x200\")  # Set window size\n",
    "\n",
    "# Create browse button\n",
    "browse_button = Button(root, text=\"Browse\", command=browse_file)\n",
    "browse_button.pack()\n",
    "\n",
    "# Create label for displaying result\n",
    "result_label = Label(root, text=\"\")\n",
    "result_label.pack()\n",
    "\n",
    "# Run the Tkinter event loop\n",
    "root.mainloop()"
   ]
  },
  {
   "cell_type": "code",
   "execution_count": null,
   "id": "8a41b333",
   "metadata": {},
   "outputs": [],
   "source": []
  }
 ],
 "metadata": {
  "kernelspec": {
   "display_name": "Python 3 (ipykernel)",
   "language": "python",
   "name": "python3"
  },
  "language_info": {
   "codemirror_mode": {
    "name": "ipython",
    "version": 3
   },
   "file_extension": ".py",
   "mimetype": "text/x-python",
   "name": "python",
   "nbconvert_exporter": "python",
   "pygments_lexer": "ipython3",
   "version": "3.11.5"
  }
 },
 "nbformat": 4,
 "nbformat_minor": 5
}
